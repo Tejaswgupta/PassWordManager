{
  "nbformat": 4,
  "nbformat_minor": 0,
  "metadata": {
    "colab": {
      "name": "PasswordManager-2.ipynb",
      "provenance": [],
      "collapsed_sections": [],
      "include_colab_link": true
    },
    "kernelspec": {
      "name": "python3",
      "display_name": "Python 3"
    }
  },
  "cells": [
    {
      "cell_type": "markdown",
      "metadata": {
        "id": "view-in-github",
        "colab_type": "text"
      },
      "source": [
        "<a href=\"https://colab.research.google.com/github/Tejaswgupta/PasswordManager/blob/master/PasswordManager_2.ipynb\" target=\"_parent\"><img src=\"https://colab.research.google.com/assets/colab-badge.svg\" alt=\"Open In Colab\"/></a>"
      ]
    },
    {
      "cell_type": "code",
      "metadata": {
        "id": "bS35cOoMk7A3",
        "colab_type": "code",
        "colab": {
          "base_uri": "https://localhost:8080/",
          "height": 85
        },
        "outputId": "45d276cd-2281-42c4-dc0f-6f10beedeb23"
      },
      "source": [
        "import random \n",
        "from math import ceil \n",
        "from decimal import *\n",
        "\n",
        "\n",
        "global field_size \n",
        "field_size = 10**5\n",
        "\n",
        "def reconstructSecret(shares): \n",
        "      \n",
        "    # Combines shares using  \n",
        "    # Lagranges interpolation.  \n",
        "    # Shares is an array of shares \n",
        "    # being combined \n",
        "    sums, prod_arr = 0, [] \n",
        "      \n",
        "    for j in range(len(shares)): \n",
        "        xj, yj = shares[j][0],shares[j][1] \n",
        "        prod = Decimal(1) \n",
        "          \n",
        "        for i in range(len(shares)): \n",
        "            xi = shares[i][0] \n",
        "            if i != j: prod *= Decimal(Decimal(xi)/(Decimal(xi)-Decimal(xj))) \n",
        "                  \n",
        "        prod *= yj \n",
        "        sums += Decimal(prod) \n",
        "          \n",
        "    return int(round(Decimal(sums),0)) \n",
        "   \n",
        "def polynom(x,coeff): \n",
        "      \n",
        "    # Evaluates a polynomial in x  \n",
        "    # with coeff being the coefficient \n",
        "    # list \n",
        "    return sum([x**(len(coeff)-i-1) * coeff[i] for i in range(len(coeff))]) \n",
        "   \n",
        "def coeff(t,secret): \n",
        "      \n",
        "    # Randomly generate a coefficient  \n",
        "    # array for a polynomial with \n",
        "    # degree t-1 whose constant = secret''' \n",
        "    coeff = [random.randrange(0, field_size) for _ in range(t-1)] \n",
        "    coeff.append(secret) \n",
        "      \n",
        "    return coeff \n",
        "   \n",
        "def generateShares(n,m,secret): \n",
        "      \n",
        "    # Split secret using SSS into \n",
        "    # n shares with threshold m \n",
        "    cfs = coeff(m,secret) \n",
        "    shares = [] \n",
        "      \n",
        "    for i in range(1,n+1): \n",
        "        r = random.randrange(1, field_size) \n",
        "        shares.append([r, polynom(r,cfs)]) \n",
        "      \n",
        "    return shares \n",
        " \n",
        " \n",
        "def int_to_string(x: int) -> bytes:\n",
        "  return x.to_bytes((x.bit_length() + 7) // 8, 'big').decode('utf-8')\n",
        " \n",
        "def int_from_string(s: str) -> int:\n",
        "  return int.from_bytes(s.encode('utf-8'), 'big')\n",
        " \n",
        "  \n",
        "# Driver code  \n",
        "if __name__ == \"__main__\": \n",
        "  # (3,5) sharing scheme \n",
        "  t,n = 3,5\n",
        "  secret_string = input(\"enter secret \")\n",
        "  secret = int_from_string(secret_string)\n",
        "  print('Original Secret:', secret)\n",
        " \n",
        "  # Phase I: Generation of shares \n",
        "  shares = generateShares(n, t, secret) \n",
        "  print('\\nShares:', *shares) \n",
        " \n",
        "#Reconstruction\n",
        "#pool = random.sample(shares, t) \n",
        "#print('\\nCombining shares:', *pool) \n",
        "#print(\"Reconstructed secret:\", int_to_string(reconstructSecret(pool)))"
      ],
      "execution_count": null,
      "outputs": [
        {
          "output_type": "stream",
          "text": [
            "enter secret Steve Jobs\n",
            "Original Secret: 394103551532965305475699\n",
            "\n",
            "Shares: [31016, 394103551581770795663571] [72940, 394103551802872841507539] [28667, 394103551574658342965490] [91108, 394103551954074293440051] [25238, 394103551565280918301911]\n"
          ],
          "name": "stdout"
        }
      ]
    },
    {
      "cell_type": "code",
      "metadata": {
        "id": "k2f41C7slL7n",
        "colab_type": "code",
        "colab": {
          "base_uri": "https://localhost:8080/",
          "height": 85
        },
        "outputId": "81f6ef84-6c18-4be4-a4e3-feaca39092c8"
      },
      "source": [
        "import ast \n",
        "n = int(input(\"how many keys do you have\"))\n",
        "list_keys=[]\n",
        "for keys in range(n):\n",
        "  key = input()\n",
        "  list_keys.append(ast.literal_eval(key))\n"
      ],
      "execution_count": null,
      "outputs": [
        {
          "output_type": "stream",
          "text": [
            "how many keys do you have3\n",
            "31016, 394103551581770795663571\n",
            "72940, 394103551802872841507539\n",
            "28667, 394103551574658342965490\n"
          ],
          "name": "stdout"
        }
      ]
    },
    {
      "cell_type": "code",
      "metadata": {
        "id": "5YgnyuR2AgqV",
        "colab_type": "code",
        "colab": {
          "base_uri": "https://localhost:8080/",
          "height": 68
        },
        "outputId": "64440e4a-ebe2-4486-ce0f-b339a2cb7d4d"
      },
      "source": [
        "list_keys"
      ],
      "execution_count": null,
      "outputs": [
        {
          "output_type": "execute_result",
          "data": {
            "text/plain": [
              "[(31016, 394103551581770795663571),\n",
              " (72940, 394103551802872841507539),\n",
              " (28667, 394103551574658342965490)]"
            ]
          },
          "metadata": {
            "tags": []
          },
          "execution_count": 6
        }
      ]
    },
    {
      "cell_type": "code",
      "metadata": {
        "id": "AtJbOz3MlRGD",
        "colab_type": "code",
        "colab": {
          "base_uri": "https://localhost:8080/",
          "height": 34
        },
        "outputId": "51e7cb45-f93b-4ca0-edd0-c170102ff633"
      },
      "source": [
        "print(\"Reconstructed secret:\", int_to_string(reconstructSecret(list_keys))) "
      ],
      "execution_count": null,
      "outputs": [
        {
          "output_type": "stream",
          "text": [
            "Reconstructed secret: Steve Jobs\n"
          ],
          "name": "stdout"
        }
      ]
    },
    {
      "cell_type": "code",
      "metadata": {
        "id": "O3top7AFR8O_",
        "colab_type": "code",
        "colab": {}
      },
      "source": [
        ""
      ],
      "execution_count": null,
      "outputs": []
    }
  ]
}